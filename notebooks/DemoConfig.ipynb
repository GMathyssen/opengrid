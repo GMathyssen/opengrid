{
 "metadata": {
  "name": "",
  "signature": "sha256:ef974a28cf27e26404125d488d2808ac524a38524d49f043b6dadce013d2a39a"
 },
 "nbformat": 3,
 "nbformat_minor": 0,
 "worksheets": [
  {
   "cells": [
    {
     "cell_type": "code",
     "collapsed": false,
     "input": [
      "import os, sys\n",
      "import inspect\n",
      "\n",
      "# Obtain path of the opengrid codebase and import opengrid libraries\n",
      "script_dir = os.path.dirname(os.path.abspath(inspect.getfile(inspect.currentframe())))\n",
      "sys.path.append(os.path.join(script_dir, os.pardir, os.pardir))\n",
      "\n",
      "from opengrid.library import config"
     ],
     "language": "python",
     "metadata": {},
     "outputs": []
    },
    {
     "cell_type": "code",
     "collapsed": false,
     "input": [
      "c = config.Config()\n",
      "for s in c.sections():\n",
      "    print(\"Section: {}\".format(s))\n",
      "    for i in c.items(s):\n",
      "        print(\"\\tItem: {}\".format(i))"
     ],
     "language": "python",
     "metadata": {},
     "outputs": []
    },
    {
     "cell_type": "code",
     "collapsed": false,
     "input": [
      "c.get('opengrid_server', 'host')"
     ],
     "language": "python",
     "metadata": {},
     "outputs": []
    },
    {
     "cell_type": "code",
     "collapsed": false,
     "input": [
      "c.get('data', 'folder')"
     ],
     "language": "python",
     "metadata": {},
     "outputs": []
    },
    {
     "cell_type": "code",
     "collapsed": false,
     "input": [
      "c.getint('opengrid_server', 'port')"
     ],
     "language": "python",
     "metadata": {},
     "outputs": []
    }
   ],
   "metadata": {}
  }
 ]
}