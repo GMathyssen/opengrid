{
 "cells": [
  {
   "cell_type": "markdown",
   "metadata": {},
   "source": [
    "# Demo caching\n",
    "\n",
    "This notebook shows how caching of daily results is organised. First we show the low-level approach, then a high-level function is used.\n",
    "\n",
    "## Low-level approach"
   ]
  },
  {
   "cell_type": "code",
   "execution_count": null,
   "metadata": {
    "collapsed": false
   },
   "outputs": [],
   "source": [
    "import pandas as pd\n",
    "from opengrid.library import misc\n",
    "from opengrid.library import houseprint\n",
    "from opengrid.library import caching\n",
    "from opengrid.library import analysis\n",
    "import charts"
   ]
  },
  {
   "cell_type": "code",
   "execution_count": null,
   "metadata": {
    "collapsed": false,
    "scrolled": true
   },
   "outputs": [],
   "source": [
    "hp = houseprint.Houseprint()\n",
    "hp.sync_tmpos()"
   ]
  },
  {
   "cell_type": "markdown",
   "metadata": {},
   "source": [
    "We demonstrate the caching for the minimal daily water consumption (should be close to zero unless there is a water leak). We start from the water consumption of last week."
   ]
  },
  {
   "cell_type": "code",
   "execution_count": null,
   "metadata": {
    "collapsed": false,
    "scrolled": true
   },
   "outputs": [],
   "source": [
    "start = pd.Timestamp('now') - pd.Timedelta(weeks=1)\n",
    "df_water = hp.get_data(sensortype='water', head=start).diff()\n",
    "df_water.info()"
   ]
  },
  {
   "cell_type": "markdown",
   "metadata": {},
   "source": [
    "We use the method *daily_min()* from the analysis module to obtain a dataframe with daily minima for each sensor."
   ]
  },
  {
   "cell_type": "code",
   "execution_count": null,
   "metadata": {
    "collapsed": false
   },
   "outputs": [],
   "source": [
    "daily_min = analysis.daily_min(df_water)\n",
    "daily_min.info()"
   ]
  },
  {
   "cell_type": "markdown",
   "metadata": {},
   "source": [
    "We create a cache object by specifying what we like to store in this object.  The cached data is saved as a single csv per sensor in a folder specified in the opengrid.cfg.  Add a this to your opengrid.cfg\n",
    "\n",
    "    [data]\n",
    "    folder: path_to_folder"
   ]
  },
  {
   "cell_type": "code",
   "execution_count": null,
   "metadata": {
    "collapsed": false
   },
   "outputs": [],
   "source": [
    "cache1 = caching.Cache(result='water_daily_min')"
   ]
  },
  {
   "cell_type": "code",
   "execution_count": null,
   "metadata": {
    "collapsed": false
   },
   "outputs": [],
   "source": [
    "df_cache = cache1.get(sensors=[s.key for s in hp.get_sensors(sensortype='water')])"
   ]
  },
  {
   "cell_type": "code",
   "execution_count": null,
   "metadata": {
    "collapsed": false
   },
   "outputs": [],
   "source": [
    "cache1.update(daily_min)"
   ]
  },
  {
   "cell_type": "markdown",
   "metadata": {},
   "source": [
    "Now we can get the daily water minima from the cache directly. Pass a *start* or *end* date to limit the returned dataframe."
   ]
  },
  {
   "cell_type": "code",
   "execution_count": null,
   "metadata": {
    "collapsed": false
   },
   "outputs": [],
   "source": [
    "sensors = [s.key for s in hp.get_sensors(sensortype='water')] # sensor ids\n",
    "charts.plot(cache1.get(sensors=sensors, start=start, end=None), show='inline', stock=True)"
   ]
  },
  {
   "cell_type": "markdown",
   "metadata": {},
   "source": [
    "## A high-level cache function\n",
    "\n",
    "The caching of daily results is very similar for all kinds of results.  Therefore, a high-level function is defined that can be parametrised to cache a lot of different things."
   ]
  },
  {
   "cell_type": "code",
   "execution_count": null,
   "metadata": {
    "collapsed": false
   },
   "outputs": [],
   "source": [
    "import pandas as pd\n",
    "from opengrid.library import misc\n",
    "from opengrid.library import houseprint\n",
    "from opengrid.library import caching\n",
    "from opengrid.library import analysis\n",
    "import charts   "
   ]
  },
  {
   "cell_type": "code",
   "execution_count": null,
   "metadata": {
    "collapsed": false
   },
   "outputs": [],
   "source": [
    "hp = houseprint.Houseprint()\n",
    "#hp.sync_tmpos()"
   ]
  },
  {
   "cell_type": "code",
   "execution_count": null,
   "metadata": {
    "collapsed": false
   },
   "outputs": [],
   "source": [
    "sensors = hp.get_sensors(sensortype='water')\n",
    "caching.cache(hp=hp, sensors=sensors, function='daily_min', resultname='water_daily_min')"
   ]
  },
  {
   "cell_type": "code",
   "execution_count": null,
   "metadata": {
    "collapsed": false
   },
   "outputs": [],
   "source": [
    "cache = caching.Cache('water_daily_min')\n",
    "daily_min = cache.get(sensors = [s.key for s in sensors], start = '20151201')\n",
    "charts.plot(daily_min, stock=True, show='inline')"
   ]
  },
  {
   "cell_type": "code",
   "execution_count": null,
   "metadata": {
    "collapsed": true
   },
   "outputs": [],
   "source": []
  }
 ],
 "metadata": {
  "kernelspec": {
   "display_name": "Python 2",
   "language": "python",
   "name": "python2"
  },
  "language_info": {
   "codemirror_mode": {
    "name": "ipython",
    "version": 2
   },
   "file_extension": ".py",
   "mimetype": "text/x-python",
   "name": "python",
   "nbconvert_exporter": "python",
   "pygments_lexer": "ipython2",
   "version": "2.7.8"
  }
 },
 "nbformat": 4,
 "nbformat_minor": 0
}
