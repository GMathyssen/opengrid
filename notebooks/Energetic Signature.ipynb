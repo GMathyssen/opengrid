{
 "cells": [
  {
   "cell_type": "markdown",
   "metadata": {},
   "source": [
    "###This script is a port of EnergyID's code that calculates a linear regression on heating data"
   ]
  },
  {
   "cell_type": "markdown",
   "metadata": {},
   "source": [
    "# Imports and setup"
   ]
  },
  {
   "cell_type": "code",
   "execution_count": null,
   "metadata": {
    "collapsed": true
   },
   "outputs": [],
   "source": [
    "import sys, os, inspect\n",
    "import pandas as pd"
   ]
  },
  {
   "cell_type": "code",
   "execution_count": null,
   "metadata": {
    "collapsed": false
   },
   "outputs": [],
   "source": [
    "script_dir = os.path.dirname(os.path.abspath(inspect.getfile(inspect.currentframe())))\n",
    "# add the path to opengrid to sys.path\n",
    "sys.path.append(os.path.join(script_dir, os.pardir, os.pardir))\n",
    "\n",
    "from opengrid.library import config\n",
    "c=config.Config()\n",
    "DEV = c.get('env', 'type') == 'dev' # DEV is True if we are in development environment, False if on the droplet\n",
    "\n",
    "import matplotlib.pyplot as plt\n",
    "\n",
    "# find tmpo\n",
    "sys.path.append(c.get('tmpo', 'folder'))\n",
    "\n",
    "from opengrid.library.houseprint import houseprint\n",
    "\n",
    "if DEV:\n",
    "    if c.get('env', 'plots') == 'inline':\n",
    "        %matplotlib inline\n",
    "    else:\n",
    "        %matplotlib qt\n",
    "else:\n",
    "    pass # don't try to render plots\n",
    "plt.rcParams['figure.figsize'] = 12,8"
   ]
  },
  {
   "cell_type": "markdown",
   "metadata": {},
   "source": [
    "# Load Test Data"
   ]
  },
  {
   "cell_type": "markdown",
   "metadata": {},
   "source": [
    "##Load Degree Days"
   ]
  },
  {
   "cell_type": "code",
   "execution_count": null,
   "metadata": {
    "collapsed": true
   },
   "outputs": [],
   "source": [
    "dfWeather = pd.read_csv('WeatherData.csv')"
   ]
  },
  {
   "cell_type": "code",
   "execution_count": null,
   "metadata": {
    "collapsed": false
   },
   "outputs": [],
   "source": [
    "dfWeather = dfWeather.set_index(pd.DatetimeIndex(dfWeather['Date']))"
   ]
  },
  {
   "cell_type": "code",
   "execution_count": null,
   "metadata": {
    "collapsed": false
   },
   "outputs": [],
   "source": [
    "tsDegreeDays = dfWeather['DegreeDays']"
   ]
  },
  {
   "cell_type": "code",
   "execution_count": null,
   "metadata": {
    "collapsed": false
   },
   "outputs": [],
   "source": [
    "tsDegreeDays.name = 'x'"
   ]
  },
  {
   "cell_type": "code",
   "execution_count": null,
   "metadata": {
    "collapsed": false
   },
   "outputs": [],
   "source": [
    "tsDegreeDays = tsDegreeDays.resample(rule='MS',how='sum')"
   ]
  },
  {
   "cell_type": "markdown",
   "metadata": {},
   "source": [
    "##Load Measurements"
   ]
  },
  {
   "cell_type": "code",
   "execution_count": null,
   "metadata": {
    "collapsed": true
   },
   "outputs": [],
   "source": [
    "import json\n",
    "import numpy as np"
   ]
  },
  {
   "cell_type": "code",
   "execution_count": null,
   "metadata": {
    "collapsed": true
   },
   "outputs": [],
   "source": [
    "json_data = open('diederik.json')"
   ]
  },
  {
   "cell_type": "code",
   "execution_count": null,
   "metadata": {
    "collapsed": false
   },
   "outputs": [],
   "source": [
    "js = json.load(json_data)"
   ]
  },
  {
   "cell_type": "code",
   "execution_count": null,
   "metadata": {
    "collapsed": false
   },
   "outputs": [],
   "source": [
    "#make two arrays with data\n",
    "X = [point['x']/1000 for point in js['points']]\n",
    "Y = [point['y'] for point in js['points']]"
   ]
  },
  {
   "cell_type": "code",
   "execution_count": null,
   "metadata": {
    "collapsed": false
   },
   "outputs": [],
   "source": [
    "#convert unix timestamp to datetime\n",
    "X = np.array(X).astype('datetime64[s]')"
   ]
  },
  {
   "cell_type": "code",
   "execution_count": null,
   "metadata": {
    "collapsed": false
   },
   "outputs": [],
   "source": [
    "tsEnergyData = pd.Series(data=Y,index=pd.DatetimeIndex(X), name='y')"
   ]
  },
  {
   "cell_type": "markdown",
   "metadata": {},
   "source": [
    "###Bring weather data and energy data together"
   ]
  },
  {
   "cell_type": "code",
   "execution_count": null,
   "metadata": {
    "collapsed": false
   },
   "outputs": [],
   "source": [
    "data = pd.concat([tsDegreeDays,tsEnergyData],axis=1).dropna()"
   ]
  },
  {
   "cell_type": "code",
   "execution_count": null,
   "metadata": {
    "collapsed": false
   },
   "outputs": [],
   "source": [
    "print data"
   ]
  },
  {
   "cell_type": "markdown",
   "metadata": {},
   "source": [
    "# Analysis Definition"
   ]
  },
  {
   "cell_type": "code",
   "execution_count": null,
   "metadata": {
    "collapsed": false
   },
   "outputs": [],
   "source": [
    "from opengrid.library.analyses.analysis import Analysis"
   ]
  },
  {
   "cell_type": "code",
   "execution_count": null,
   "metadata": {
    "collapsed": false
   },
   "outputs": [],
   "source": [
    "from scipy import stats\n",
    "\n",
    "class LinearRegression(Analysis):\n",
    "    \"\"\"\n",
    "        Calculate a simple linear regression given a dataframe with X and Y values\n",
    "    \"\"\"\n",
    "    def __init__(self,data):\n",
    "        \"\"\"\n",
    "            Parameters\n",
    "            ----------\n",
    "            data: Pandas Dataframe\n",
    "                This dataframe has to be strictly formatted!\n",
    "                One column must be named 'x', the other one 'y'\n",
    "        \"\"\"\n",
    "\n",
    "        super(LinearRegression, self).__init__()\n",
    "\n",
    "        self.data = data\n",
    "\n",
    "        self.slope, self.intercept, self.r_value, self.p_value, self.std_err = stats.linregress(data['x'],data['y'])\n",
    "\n",
    "    def getY(self,x):\n",
    "        \"\"\"\n",
    "            Calculate the value on the trend line for a given x-value or an array of x-values\n",
    "\n",
    "            Parameters\n",
    "            ----------\n",
    "            x: single number (float or int)\n",
    "                OR iterable (array) of numbers\n",
    "\n",
    "            Returns\n",
    "            -------\n",
    "            float if x is a single number\n",
    "            array of floats if x is an iterable\n",
    "        \"\"\"\n",
    "\n",
    "        #check if x is an iterable\n",
    "        if not hasattr(x, '__iter__'):\n",
    "            return self._getY(x)\n",
    "        else:\n",
    "            return [self._getY(val) for val in x]\n",
    "\n",
    "    def _getY(self,x):\n",
    "        \"\"\"\n",
    "            Calculate a value on the trend line for a given x-value\n",
    "\n",
    "            Parameters\n",
    "            ----------\n",
    "            x: number\n",
    "\n",
    "            Returns\n",
    "            -------\n",
    "            float\n",
    "        \"\"\"\n",
    "\n",
    "        # y = ax + b\n",
    "        return self.slope * x + self.intercept\n",
    "\n",
    "    def getX(self,y):\n",
    "        \"\"\"\n",
    "            Calculate value on the trendline for given y-value\n",
    "\n",
    "            Parameters\n",
    "            ----------\n",
    "            y: number\n",
    "\n",
    "            Return\n",
    "            ------\n",
    "            float\n",
    "        \"\"\"\n",
    "\n",
    "        # y = ax + b => x = (y-b)/a\n",
    "        return (y - self.intercept)/self.slope\n",
    "\n",
    "    def toPlt(self, forceOrigin=True):\n",
    "        \"\"\"\n",
    "            Create scatterplot and plot trendline\n",
    "\n",
    "            Parameters\n",
    "            ----------\n",
    "            forceOrigin: boolean, default True\n",
    "                set the default values of the axis to 0,0\n",
    "\n",
    "            Returns\n",
    "            -------\n",
    "            matplotlib figure\n",
    "        \"\"\"\n",
    "        fig = plt.figure()\n",
    "        ax1 = fig.add_subplot(111)\n",
    "\n",
    "        ax1.scatter(self.data['x'], self.data['y'], alpha=1, s=20)\n",
    "\n",
    "        function = \"${s:.2f}x + {i:.2f}$\".format(s = self.slope, i = self.intercept)\n",
    "        r2 = \"$R^2$: ${r:.2f}$\".format(r = self.r_value)\n",
    "        label = \"{}\\n{}\".format(function,r2)\n",
    "\n",
    "        x = self._getPlotX()\n",
    "\n",
    "        ax1.plot(x, self.getY(x), '-', label=label)\n",
    "        plt.legend()\n",
    "\n",
    "        if forceOrigin:\n",
    "            x1,x2,y1,y2 = plt.axis()\n",
    "            plt.axis((0,x2,0,y2))\n",
    "\n",
    "        return fig\n",
    "\n",
    "    def _getPlotX(self):\n",
    "        \"\"\"\n",
    "            Return the values that are needed to draw the trendline.\n",
    "            In this case, the min and max since it's a single line\n",
    "        \"\"\"\n",
    "\n",
    "        return [self.data['x'].min(),self.data['x'].max()]"
   ]
  },
  {
   "cell_type": "code",
   "execution_count": null,
   "metadata": {
    "collapsed": true
   },
   "outputs": [],
   "source": [
    "class LinearRegression2(LinearRegression):\n",
    "    \"\"\"\n",
    "        Calculate a linear regression that uses a predefined breakpoint to break between regression and baseload\n",
    "    \"\"\"\n",
    "    def __init__(self,data,breakpoint):\n",
    "        \"\"\"\n",
    "            Parameters\n",
    "            ----------\n",
    "            data: Pandas Dataframe\n",
    "                columns must be exactly named 'x' and 'y'\n",
    "            breakpoint: number\n",
    "                value on the x-axis where to break between regression and baseload\n",
    "        \"\"\"\n",
    "        \n",
    "        self.breakpoint = breakpoint\n",
    "        \n",
    "        #baseLoad is the mean of all y values where x is below the breakpoint\n",
    "        self.baseLoad = data[data['x']<=self.breakpoint]['y'].mean()\n",
    "        \n",
    "        #calculate trendline by making a simple linear regression (superclass) on the right hand side data\n",
    "        super(LinearRegression2, self).__init__(data = self._calculateRegressionData(data))\n",
    "        \n",
    "        #intersect is the intersection of the trendline and the baseload\n",
    "        self.intersect = self.getX(self.baseLoad)\n",
    "        \n",
    "        #the super init writes only right hand side data to self.data, so we have to overwrite it after initialisation\n",
    "        self.data = data\n",
    "        \n",
    "    def _calculateRegressionData(self, data):\n",
    "        \"\"\"\n",
    "            Decide what data to use for the linear regression.\n",
    "            In this case all data past the breakpoint\n",
    "        \"\"\"\n",
    "        \n",
    "        return data[data['x']>self.breakpoint]\n",
    "        \n",
    "    def _getY(self,x):\n",
    "        \"\"\"\n",
    "            Calculate a value on the trend line for a given x-value\n",
    "            \n",
    "            Parameters\n",
    "            ----------\n",
    "            x: number\n",
    "            \n",
    "            Returns\n",
    "            -------\n",
    "            float\n",
    "        \"\"\"\n",
    "        #if the value is before the intersection, return the baseload\n",
    "        if x <= self.intersect:\n",
    "            return self.baseLoad\n",
    "        else:\n",
    "            #else return the normal value in the trendline\n",
    "            return super(LinearRegression2, self)._getY(x)\n",
    "        \n",
    "    def _getPlotX(self):\n",
    "        \"\"\"\n",
    "            Return the values that are needed to draw the trendline.\n",
    "            In this case, they are the same as the normal linear regression,\n",
    "            but the intersection of the trend and the baseload need to be added\n",
    "        \"\"\"\n",
    "        ret = super(LinearRegression2, self)._getPlotX()\n",
    "        ret.append(self.intersect)\n",
    "        return sorted(ret)"
   ]
  },
  {
   "cell_type": "code",
   "execution_count": null,
   "metadata": {
    "collapsed": false
   },
   "outputs": [],
   "source": [
    "class LinearRegression3(LinearRegression2):\n",
    "    \"\"\"\n",
    "        Calculate a linear regression that uses a predefined breakpoint to break between baseload and regression,\n",
    "        yet exclude values in a certain range (percentage of the baseload) from the regression\n",
    "    \"\"\"\n",
    "    \n",
    "    def __init__(self, data, breakpoint, percentage, includeEndOfBaseLoadInRegression=True):\n",
    "        \"\"\"\n",
    "            Parameters\n",
    "            ----------\n",
    "            \n",
    "            data: Pandas Dataframe\n",
    "                columns must be named 'x' and 'y'\n",
    "            breakpoint: number\n",
    "                point on the x-axis where to break between baseload and regression\n",
    "            percentage: float\n",
    "                y-values that are in this range to the baseload are excluded from the regression\n",
    "            includeEndOfBaseLoadInRegression: boolean\n",
    "                \n",
    "        \"\"\"\n",
    "        \n",
    "        self.percentage = percentage\n",
    "        self.includeEndOfBaseLoadInRegression = includeEndOfBaseLoadInRegression\n",
    "        \n",
    "        super(LinearRegression3, self).__init__(data=data, breakpoint=breakpoint)\n",
    "        \n",
    "    def _calculateRegressionData(self,data):\n",
    "        \"\"\"\n",
    "            Decide what data to use for the linear regression.\n",
    "            In this case all data past the breakpoint (from Linearregression2),\n",
    "            but we iterate over them and drop values that are close to the baseline.\n",
    "        \"\"\"\n",
    "        #make a list of indices of entries that are to be excluded from the regression\n",
    "        toDrop = data[data['x']<=self.breakpoint].sort('x').index.tolist()\n",
    "        \n",
    "        #get the data from Regression 3\n",
    "        res = super(LinearRegression3, self)._calculateRegressionData(data)\n",
    "        \n",
    "        #sort by x-value and iterate\n",
    "        for entry in res.sort('x').iterrows():\n",
    "            #if the y value is smaller than the percentage of the baseload\n",
    "            if entry[1]['y'] < self.baseLoad * (1+self.percentage):\n",
    "                #add the entry to the list to be dropped\n",
    "                toDrop.append(entry[0])\n",
    "            else:\n",
    "                #if not, end the loop\n",
    "                break\n",
    "                \n",
    "        # if we want to include the last value of the base load in the regression, remove it from the todrop list\n",
    "        if self.includeEndOfBaseLoadInRegression:\n",
    "            toDrop.pop()\n",
    "                \n",
    "        #drop the toDrop list from the dataframe\n",
    "        res = data.drop(toDrop)\n",
    "        \n",
    "        return res"
   ]
  },
  {
   "cell_type": "markdown",
   "metadata": {
    "collapsed": true
   },
   "source": [
    "#Run Analysis"
   ]
  },
  {
   "cell_type": "code",
   "execution_count": null,
   "metadata": {
    "collapsed": false
   },
   "outputs": [],
   "source": [
    "linregress = LinearRegression(data)"
   ]
  },
  {
   "cell_type": "code",
   "execution_count": null,
   "metadata": {
    "collapsed": false
   },
   "outputs": [],
   "source": [
    "fig = linregress.toPlt()"
   ]
  },
  {
   "cell_type": "code",
   "execution_count": null,
   "metadata": {
    "collapsed": false
   },
   "outputs": [],
   "source": [
    "linregress2 = LinearRegression2(data=data, breakpoint=60)"
   ]
  },
  {
   "cell_type": "code",
   "execution_count": null,
   "metadata": {
    "collapsed": false
   },
   "outputs": [],
   "source": [
    "fig = linregress2.toPlt()"
   ]
  },
  {
   "cell_type": "code",
   "execution_count": null,
   "metadata": {
    "collapsed": false
   },
   "outputs": [],
   "source": [
    "linregress3 = LinearRegression3(data=data, breakpoint=60, percentage=2, includeEndOfBaseLoadInRegression=True)"
   ]
  },
  {
   "cell_type": "code",
   "execution_count": null,
   "metadata": {
    "collapsed": false
   },
   "outputs": [],
   "source": [
    "fig = linregress3.toPlt()"
   ]
  },
  {
   "cell_type": "markdown",
   "metadata": {},
   "source": [
    "#Plot Models"
   ]
  },
  {
   "cell_type": "code",
   "execution_count": null,
   "metadata": {
    "collapsed": false
   },
   "outputs": [],
   "source": [
    "fig = plt.figure()\n",
    "ax1 = fig.add_subplot(111)\n",
    "ax1.plot_date(data.index, data['x'],'-',label='gas')\n",
    "ax1.plot_date(data.index, linregress.getY(data['x']),'-', label='simple regression')\n",
    "ax1.plot_date(data.index, linregress2.getY(data['x']),'-', label='with baseline')\n",
    "ax1.plot_date(data.index, linregress3.getY(data['x']),'-', label='progressive baseline')\n",
    "plt.legend()"
   ]
  },
  {
   "cell_type": "code",
   "execution_count": null,
   "metadata": {
    "collapsed": true
   },
   "outputs": [],
   "source": []
  }
 ],
 "metadata": {
  "kernelspec": {
   "display_name": "Python 2",
   "language": "python",
   "name": "python2"
  },
  "language_info": {
   "codemirror_mode": {
    "name": "ipython",
    "version": 2
   },
   "file_extension": ".py",
   "mimetype": "text/x-python",
   "name": "python",
   "nbconvert_exporter": "python",
   "pygments_lexer": "ipython2",
   "version": "2.7.10"
  }
 },
 "nbformat": 4,
 "nbformat_minor": 0
}
