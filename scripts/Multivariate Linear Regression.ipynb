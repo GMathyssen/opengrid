{
 "cells": [
  {
   "cell_type": "markdown",
   "metadata": {},
   "source": [
    "# Imports and settings"
   ]
  },
  {
   "cell_type": "code",
   "execution_count": null,
   "metadata": {
    "collapsed": false
   },
   "outputs": [],
   "source": [
    "import matplotlib.pyplot as plt\n",
    "%matplotlib inline\n",
    "plt.rcParams['figure.figsize'] = 16,8"
   ]
  },
  {
   "cell_type": "code",
   "execution_count": null,
   "metadata": {
    "collapsed": true
   },
   "outputs": [],
   "source": [
    "import numpy as np\n",
    "import pandas as pd"
   ]
  },
  {
   "cell_type": "code",
   "execution_count": null,
   "metadata": {
    "collapsed": false
   },
   "outputs": [],
   "source": [
    "import os, sys, inspect\n",
    "\n",
    "script_dir = os.path.dirname(os.path.abspath(inspect.getfile(inspect.currentframe())))\n",
    "# add the path to opengrid to sys.path\n",
    "sys.path.append(os.path.join(script_dir, os.pardir, os.pardir))"
   ]
  },
  {
   "cell_type": "markdown",
   "metadata": {},
   "source": [
    "#Load mock Data"
   ]
  },
  {
   "cell_type": "code",
   "execution_count": null,
   "metadata": {
    "collapsed": true
   },
   "outputs": [],
   "source": [
    "date = [1388534400000, 1391212800000, 1393632000000, 1396310400000, 1398902400000, 1401580800000, 1404172800000, 1406851200000, 1409529600000, 1412121600000, 1414800000000, 1417392000000] #eerste dag van de maand in 2014\n",
    "y = [93906.1, 74794.7, 61266.9, 24086.9, 20694.7, 1321.7, 0, 0, 0, 23711.2, 53668.7, 148793.7] #gas in kWh\n",
    "x1 = [321, 277, 228, 121, 99, 26, 6, 35, 23, 92, 224, 376] #graaddagen\n",
    "x2 = [21, 20, 22, 21, 19, 21, 22, 20, 22, 22, 20, 21] #weekdagen\n",
    "x3 = [10, 8, 9, 9, 12, 9, 9, 11, 8, 9, 10, 10] #weekenddagen\n",
    "x4 = [-20.3, -6.4, -29.3, -3.6, 0, 0, 0, 0, 0, 0, -7.3, -125.3] #vorst"
   ]
  },
  {
   "cell_type": "code",
   "execution_count": null,
   "metadata": {
    "collapsed": false
   },
   "outputs": [],
   "source": [
    "#convert unix timestamp to datetimeIndex\n",
    "date = [x/1000 for x in date]\n",
    "date = np.array(date).astype('datetime64[s]')\n",
    "date = pd.DatetimeIndex(date)"
   ]
  },
  {
   "cell_type": "code",
   "execution_count": null,
   "metadata": {
    "collapsed": false
   },
   "outputs": [],
   "source": [
    "dict = {\n",
    "    'gas': pd.Series(y, index=date),\n",
    "    'graaddagen': pd.Series(x1, index=date),\n",
    "    'weekdagen': pd.Series(x2, index=date),\n",
    "    'weekenddagen': pd.Series(x3, index=date),\n",
    "    'vorst': pd.Series(x4, index=date)\n",
    "}"
   ]
  },
  {
   "cell_type": "code",
   "execution_count": null,
   "metadata": {
    "collapsed": true
   },
   "outputs": [],
   "source": [
    "df = pd.DataFrame(dict)"
   ]
  },
  {
   "cell_type": "code",
   "execution_count": null,
   "metadata": {
    "collapsed": false
   },
   "outputs": [],
   "source": [
    "for column in df.columns:\n",
    "    plt.figure()\n",
    "    df[column].plot(title='{}'.format(column))"
   ]
  },
  {
   "cell_type": "markdown",
   "metadata": {},
   "source": [
    "#Define Classes"
   ]
  },
  {
   "cell_type": "code",
   "execution_count": null,
   "metadata": {
    "collapsed": false
   },
   "outputs": [],
   "source": [
    "from opengrid.library.analyses.analysis import Analysis"
   ]
  },
  {
   "cell_type": "code",
   "execution_count": null,
   "metadata": {
    "collapsed": false
   },
   "outputs": [],
   "source": [
    "import statsmodels.formula.api as sm\n",
    "\n",
    "class MultivariateLinearRegression(Analysis):\n",
    "    def __init__(self, data, dependentVariable):\n",
    "        \"\"\"\n",
    "            Calculate an Ordinary Least Squares Regression on a dataset with multiple variables\n",
    "            \n",
    "            Parameters\n",
    "            ----------\n",
    "            data: Pandas Dataframe\n",
    "            dependentVariable: String\n",
    "                name of the dependent variable. This will be the y value, all other columns will be used as x values\n",
    "        \"\"\"\n",
    "        self.data = data\n",
    "        self.dependentVariable = dependentVariable\n",
    "        \n",
    "        #select all column names that are not the dependent variable\n",
    "        variables = [name for name in data.columns.tolist() if name != dependentVariable][::-1]\n",
    "        \n",
    "        self.result = self._runOLS(data=self.data, dependentVariable=dependentVariable, otherVariables=variables)\n",
    "        \n",
    "    def _constructFormula(self, dependentVariable, variables):\n",
    "        \"\"\"\n",
    "            Take a dependent variable y and list of variables and concatenate them into\n",
    "            \"y ~ var1 + var2 + var3\"\n",
    "            \n",
    "            Parameters\n",
    "            ----------\n",
    "            dependentVariable: String\n",
    "            variables: list of strings\n",
    "            \n",
    "            Returns\n",
    "            -------\n",
    "            string\n",
    "        \"\"\"\n",
    "        rhs = variables.pop()\n",
    "        while len(variables) > 0:\n",
    "            rhs += \" + {}\".format(variables.pop())\n",
    "            \n",
    "        formula = \"{} ~ {}\".format(dependentVariable, rhs)\n",
    "            \n",
    "        return formula\n",
    "    \n",
    "    def _runOLS(self, data, dependentVariable, otherVariables):\n",
    "        \"\"\"\n",
    "            Construct the formula and run the OLS\n",
    "            \n",
    "            Parameters\n",
    "            ----------\n",
    "            data: Pandas Dataframe\n",
    "            dependentVariable: String\n",
    "            otherVariables: list of strings\n",
    "        \"\"\"\n",
    "        #The OLS calculation takes a formula of the form \"y ~ x1 + x2\"\n",
    "        formula = self._constructFormula(dependentVariable,otherVariables)        \n",
    "        \n",
    "        return sm.ols(formula=formula,data=data).fit()\n",
    "        \n",
    "    def getOLSWithSignificantVariables(self,pvalueLimit=0.05):\n",
    "        \"\"\"\n",
    "            Re-run the OLS but only with the variables where the pValue is below the pvalueLimit (standard 0.05)\n",
    "            which means that the variable is statistically significant\n",
    "            \n",
    "            Parameters\n",
    "            ----------\n",
    "            pvalueLimit: float\n",
    "            \n",
    "            Returns\n",
    "            -------\n",
    "            sm.ols.fit\n",
    "        \"\"\"\n",
    "        #get variables that are significant\n",
    "        variables = self.getSignificantVariables(pvalueLimit)\n",
    "        \n",
    "        return self._runOLS(data=self.data, dependentVariable=self.dependentVariable, otherVariables=variables)\n",
    "        \n",
    "    def getSignificantVariables(self,pvalueLimit=0.05):\n",
    "        \"\"\"\n",
    "            Return the names of the columns where the pValue is below the pvalueLimit (standard 0.05),\n",
    "            meaning that the variable is statiscally significant\n",
    "            \n",
    "            Parameters\n",
    "            ----------\n",
    "            pvalueLimit: float\n",
    "\n",
    "            Returns\n",
    "            -------\n",
    "            list of strings\n",
    "        \"\"\"\n",
    "        #iterate all pvalues, ignore intercept, return names where the value is smaller than pvaluelimit\n",
    "        return [name for name,value in self.result.pvalues.iteritems() if name != 'Intercept' and value < pvalueLimit]"
   ]
  },
  {
   "cell_type": "markdown",
   "metadata": {},
   "source": [
    "#Run Test"
   ]
  },
  {
   "cell_type": "markdown",
   "metadata": {},
   "source": [
    "##First with all variables"
   ]
  },
  {
   "cell_type": "code",
   "execution_count": null,
   "metadata": {
    "collapsed": false
   },
   "outputs": [],
   "source": [
    "MVLR = MultivariateLinearRegression(df, dependentVariable='gas')"
   ]
  },
  {
   "cell_type": "code",
   "execution_count": null,
   "metadata": {
    "collapsed": false
   },
   "outputs": [],
   "source": [
    "MVLR.result.params"
   ]
  },
  {
   "cell_type": "code",
   "execution_count": null,
   "metadata": {
    "collapsed": false
   },
   "outputs": [],
   "source": [
    "MVLR.result.summary()"
   ]
  },
  {
   "cell_type": "markdown",
   "metadata": {},
   "source": [
    "The P-value for week days and weekend days is pretty high, degree days and frost seem to be statistically significant"
   ]
  },
  {
   "cell_type": "markdown",
   "metadata": {},
   "source": [
    "##Repeat with Degreedays and Frost only"
   ]
  },
  {
   "cell_type": "code",
   "execution_count": null,
   "metadata": {
    "collapsed": false
   },
   "outputs": [],
   "source": [
    "MVLR.getSignificantVariables()"
   ]
  },
  {
   "cell_type": "code",
   "execution_count": null,
   "metadata": {
    "collapsed": false
   },
   "outputs": [],
   "source": [
    "D2 = MVLR.getOLSWithSignificantVariables()"
   ]
  },
  {
   "cell_type": "code",
   "execution_count": null,
   "metadata": {
    "collapsed": false
   },
   "outputs": [],
   "source": [
    "D2.summary()"
   ]
  },
  {
   "cell_type": "markdown",
   "metadata": {},
   "source": [
    "#Plot Models"
   ]
  },
  {
   "cell_type": "code",
   "execution_count": null,
   "metadata": {
    "collapsed": false
   },
   "outputs": [],
   "source": [
    "fig = plt.figure()\n",
    "ax1 = fig.add_subplot(111)\n",
    "ax1.plot_date(df.index, df['gas'],'-',label='gas')\n",
    "ax1.plot_date(df.index, MVLR.result.fittedvalues, '-', label='model with 4 variables')\n",
    "ax1.plot_date(df.index, D2.fittedvalues, '-', label='model with only degreedays & frost')\n",
    "\n",
    "plt.legend()"
   ]
  },
  {
   "cell_type": "code",
   "execution_count": null,
   "metadata": {
    "collapsed": true
   },
   "outputs": [],
   "source": []
  }
 ],
 "metadata": {
  "kernelspec": {
   "display_name": "Python 2",
   "language": "python",
   "name": "python2"
  },
  "language_info": {
   "codemirror_mode": {
    "name": "ipython",
    "version": 2
   },
   "file_extension": ".py",
   "mimetype": "text/x-python",
   "name": "python",
   "nbconvert_exporter": "python",
   "pygments_lexer": "ipython2",
   "version": "2.7.10"
  }
 },
 "nbformat": 4,
 "nbformat_minor": 0
}
